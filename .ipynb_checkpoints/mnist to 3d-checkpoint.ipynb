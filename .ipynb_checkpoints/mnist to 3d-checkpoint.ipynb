{
 "cells": [
  {
   "cell_type": "markdown",
   "id": "f9ce58bb",
   "metadata": {},
   "source": [
    "# Data"
   ]
  },
  {
   "cell_type": "code",
   "execution_count": 659,
   "id": "492aa71d",
   "metadata": {},
   "outputs": [],
   "source": [
    "import gzip\n",
    "import os\n",
    "import sys\n",
    "import struct\n",
    "import numpy as np\n",
    "def read_image(fi):\n",
    "    magic, n, rows, columns = struct.unpack(\">IIII\", fi.read(16))\n",
    "    assert magic == 0x00000803\n",
    "    assert rows == 28\n",
    "    assert columns == 28\n",
    "    rawbuffer = fi.read()\n",
    "    assert len(rawbuffer) == n * rows * columns\n",
    "    rawdata = np.frombuffer(rawbuffer, dtype='>u1', count=n*rows*columns)\n",
    "    return rawdata.reshape(n, rows, columns).astype(np.float32) / 255.0\n",
    "\n",
    "def read_label(fi):\n",
    "    magic, n = struct.unpack(\">II\", fi.read(8))\n",
    "    assert magic == 0x00000801\n",
    "    rawbuffer = fi.read()\n",
    "    assert len(rawbuffer) == n\n",
    "    return np.frombuffer(rawbuffer, dtype='>u1', count=n)\n",
    "\n",
    "if __name__ == '__main__':\n",
    "    os.system('wget -N http://yann.lecun.com/exdb/mnist/train-images-idx3-ubyte.gz')\n",
    "    os.system('wget -N http://yann.lecun.com/exdb/mnist/train-labels-idx1-ubyte.gz')\n",
    "    os.system('wget -N http://yann.lecun.com/exdb/mnist/t10k-images-idx3-ubyte.gz')\n",
    "    os.system('wget -N http://yann.lecun.com/exdb/mnist/t10k-labels-idx1-ubyte.gz')\n",
    "    \n",
    "    np.savez_compressed(\n",
    "        'mnist',\n",
    "        train_x=read_image(gzip.open('train-images-idx3-ubyte.gz', 'rb')),\n",
    "        train_y=read_label(gzip.open('train-labels-idx1-ubyte.gz', 'rb')),\n",
    "        test_x=read_image(gzip.open('t10k-images-idx3-ubyte.gz', 'rb')),\n",
    "        test_y=read_label(gzip.open('t10k-labels-idx1-ubyte.gz', 'rb'))\n",
    "    )"
   ]
  },
  {
   "cell_type": "code",
   "execution_count": 33,
   "id": "baf6c93d",
   "metadata": {},
   "outputs": [],
   "source": [
    "data = np.load('mnist.npz')\n",
    "X_train = data['train_x']\n",
    "y_train = data['train_y']\n",
    "X_test = data['test_x']\n",
    "y_test = data['test_y']"
   ]
  },
  {
   "cell_type": "markdown",
   "id": "c929495d",
   "metadata": {},
   "source": [
    "# 1-D Image 확장\n",
    "0~1 값을 가지는 `28x28` size MNIST 데이터셋을, 임의의 background 이미지와 합성해 random color를 가지는 `28x28x3` 이미지로 만들어준다."
   ]
  },
  {
   "cell_type": "code",
   "execution_count": 660,
   "id": "065d905d",
   "metadata": {},
   "outputs": [],
   "source": [
    "'''\n",
    "Image를 출력해주는 함수\n",
    "'''\n",
    "from matplotlib import pyplot as plt\n",
    "def print_image(img) :\n",
    "    plt.imshow(img)\n",
    "    plt.show()"
   ]
  },
  {
   "cell_type": "code",
   "execution_count": 661,
   "id": "76506209",
   "metadata": {},
   "outputs": [],
   "source": [
    "'''\n",
    "background 이미지를 road하는 함수\n",
    "'''\n",
    "import PIL.Image as pilimg \n",
    "def load_background() :\n",
    "    backgrounds = []\n",
    "    file_list = os.listdir('./background')\n",
    "    for file in file_list :\n",
    "        output = pilimg.open('./background/{}'.format(file))\n",
    "        output = np.array(output).sum(axis = 2)\n",
    "        output = 1-(output - output.min()) / (output.max() - output.min())\n",
    "        backgrounds.append(output)\n",
    "    return backgrounds"
   ]
  },
  {
   "cell_type": "markdown",
   "id": "e9a878e8",
   "metadata": {},
   "source": [
    "## 이미지 확장\n",
    "1-D 이미지는 0~1 사이의 값을 가진다. 역으로 생각해보면 원본 이미지의 채널 3개를 합친 후 min-max scale을 해주면 MNIST데이터셋이 만들어진다라고 생각할 수 있다. 따라서 MNIST이미지를 inverse min-max scale을 해주면 color이미지를 만들 수 있겠다고 생각을 했다.\n",
    "> 각 채널의 min, max값은 0~255사이의 값을 무작위로 출력해주는 uniform distribution에서 뽑아온다.  \n",
    "> `원본이미지(max-min) + min`공식을 이용해 inverse scaling 해준다.  \n",
    "> background + MNIST 해서 이미지를 합쳐준다.\n",
    "> * MNIST데이터를 돋보이게 하기위해 background와 MNIST의 데이터가 겹칠 경우 MNIST 픽셀을 우선적으로 적용시킨다."
   ]
  },
  {
   "cell_type": "code",
   "execution_count": 662,
   "id": "673dc2c2",
   "metadata": {},
   "outputs": [],
   "source": [
    "'''\n",
    "img : MNIST image\n",
    "figures : backgrounds\n",
    "'''\n",
    "def make_rgb(img, figures) :\n",
    "    rgbs = []\n",
    "    for figure in figures :\n",
    "        rgb = np.zeros((28, 28, 3))\n",
    "        for i in range(3) :\n",
    "            a, b, c, d = np.random.uniform(low=0, high=255, size=4)\n",
    "            n = np.where(img != 0, img*(max(a, b) - min(a, b)) + min(a, b), 0) # single channel MNIST Image\n",
    "            f = figure*(max(c, d) - min(c, d)) + min(c, d) # single channel background\n",
    "            output = np.where(n+f == f, n+f, n) # 겹치지 않으면 MNIST + background, 겹치면 MNIST\n",
    "            rgb[:,: , i] += output \n",
    "        rgbs.append(rgb.astype(np.uint8))\n",
    "    return rgbs"
   ]
  },
  {
   "cell_type": "markdown",
   "id": "eb2e771d",
   "metadata": {},
   "source": [
    "## 적용"
   ]
  },
  {
   "cell_type": "code",
   "execution_count": 663,
   "id": "844949da",
   "metadata": {},
   "outputs": [],
   "source": [
    "# background 이미지 불러오기\n",
    "figures = load_background()"
   ]
  },
  {
   "cell_type": "code",
   "execution_count": 664,
   "id": "b22a81ff",
   "metadata": {},
   "outputs": [],
   "source": [
    "# X_train(60000, 28, 28)에 적용\n",
    "X_train_arguments = []\n",
    "for img in X_train :\n",
    "    X_train_arguments += make_rgb(img, figures)\n",
    "X_train_arguments = np.array(X_train_arguments)"
   ]
  },
  {
   "cell_type": "code",
   "execution_count": 665,
   "id": "5fe767cb",
   "metadata": {},
   "outputs": [
    {
     "data": {
      "text/plain": [
       "(360000, 28, 28, 3)"
      ]
     },
     "execution_count": 665,
     "metadata": {},
     "output_type": "execute_result"
    }
   ],
   "source": [
    "# 적용 후 데이터셋\n",
    "X_train_arguments.shape"
   ]
  },
  {
   "cell_type": "code",
   "execution_count": 666,
   "id": "781c71b8",
   "metadata": {},
   "outputs": [],
   "source": [
    "y_train_arguments = []\n",
    "for y in y_train :\n",
    "    y_train_arguments += [y]*6\n",
    "y_train_arguments = np.array(y_train_arguments)"
   ]
  },
  {
   "cell_type": "code",
   "execution_count": 667,
   "id": "d395df04",
   "metadata": {},
   "outputs": [
    {
     "data": {
      "text/plain": [
       "(360000,)"
      ]
     },
     "execution_count": 667,
     "metadata": {},
     "output_type": "execute_result"
    }
   ],
   "source": [
    "y_train_arguments.shape"
   ]
  },
  {
   "cell_type": "markdown",
   "id": "ca187bcd",
   "metadata": {},
   "source": [
    "## 확장한 Samples print"
   ]
  },
  {
   "cell_type": "code",
   "execution_count": 668,
   "id": "61cb4007",
   "metadata": {},
   "outputs": [
    {
     "data": {
      "image/png": "[encoded data removed]",
      "text/plain": [
       "<Figure size 432x288 with 1 Axes>"
      ]
     },
     "metadata": {
      "needs_background": "light"
     },
     "output_type": "display_data"
    }
   ],
   "source": [
    "# original image\n",
    "img = X_train[2093]\n",
    "print_image(img)"
   ]
  },
  {
   "cell_type": "code",
   "execution_count": 669,
   "id": "c481ee8e",
   "metadata": {},
   "outputs": [
    {
     "data": {
      "image/png": "[encoded data removed]",
      "text/plain": [
       "<Figure size 432x288 with 1 Axes>"
      ]
     },
     "metadata": {
      "needs_background": "light"
     },
     "output_type": "display_data"
    },
    {
     "data": {
      "image/png": "[encoded data removed]",
      "text/plain": [
       "<Figure size 432x288 with 1 Axes>"
      ]
     },
     "metadata": {
      "needs_background": "light"
     },
     "output_type": "display_data"
    },
    {
     "data": {
      "image/png": "[encoded data removed]",
      "text/plain": [
       "<Figure size 432x288 with 1 Axes>"
      ]
     },
     "metadata": {
      "needs_background": "light"
     },
     "output_type": "display_data"
    },
    {
     "data": {
      "image/png": "[encoded data removed]",
      "text/plain": [
       "<Figure size 432x288 with 1 Axes>"
      ]
     },
     "metadata": {
      "needs_background": "light"
     },
     "output_type": "display_data"
    },
    {
     "data": {
      "image/png": "[encoded data removed]",
      "text/plain": [
       "<Figure size 432x288 with 1 Axes>"
      ]
     },
     "metadata": {
      "needs_background": "light"
     },
     "output_type": "display_data"
    },
    {
     "data": {
      "image/png": "[encoded data removed]",
      "text/plain": [
       "<Figure size 432x288 with 1 Axes>"
      ]
     },
     "metadata": {
      "needs_background": "light"
     },
     "output_type": "display_data"
    }
   ],
   "source": [
    "# expanded image\n",
    "rgbs = make_rgb(img, figures)\n",
    "for rgb in rgbs :\n",
    "    print_image(rgb)"
   ]
  },
  {
   "cell_type": "markdown",
   "id": "a97dfd6b",
   "metadata": {},
   "source": [
    "# Data Argumentation\n",
    "[참조 사이트](https://github.com/aleju/imgaug)"
   ]
  },
  {
   "cell_type": "markdown",
   "id": "687fd33d",
   "metadata": {},
   "source": [
    "먼저 `imgaug`를 설치해줘야한다. [설치방법](https://github.com/aleju/imgaug#installation) 에 자세히 나와있다."
   ]
  },
  {
   "cell_type": "code",
   "execution_count": null,
   "id": "8202d9e2",
   "metadata": {},
   "outputs": [],
   "source": [
    "# 설치\n",
    "!pip install imgaug"
   ]
  },
  {
   "cell_type": "code",
   "execution_count": 675,
   "id": "4fc46ca2",
   "metadata": {},
   "outputs": [],
   "source": [
    "import numpy as np\n",
    "import imgaug as ia\n",
    "import imgaug.augmenters as iaa\n",
    "\n",
    "# random example images\n",
    "# Sometimes(0.5, ...) applies the given augmenter in 50% of all cases,\n",
    "# e.g. Sometimes(0.5, GaussianBlur(0.3)) would blur roughly every second image.\n",
    "sometimes = lambda aug: iaa.Sometimes(0.5, aug)\n",
    "\n",
    "# Define our sequence of augmentation steps that will be applied to every image\n",
    "# All augmenters with per_channel=0.5 will sample one value _per image_\n",
    "# in 50% of all cases. In all other cases they will sample new values\n",
    "# _per channel_.\n",
    "\n",
    "seq = iaa.Sequential(\n",
    "    [\n",
    "        # apply the following augmenters to most images\n",
    "        iaa.Fliplr(0.5), # horizontally flip 50% of all images\n",
    "        iaa.Flipud(0.2), # vertically flip 20% of all images\n",
    "        # crop images by -5% to 10% of their height/width\n",
    "        sometimes(iaa.CropAndPad(\n",
    "            percent=(-0.05, 0.1),\n",
    "            pad_mode=ia.ALL,\n",
    "            pad_cval=(0, 255)\n",
    "        )),\n",
    "        sometimes(iaa.Affine(\n",
    "            scale={\"x\": (0.8, 1.2), \"y\": (0.8, 1.2)}, # scale images to 80-120% of their size, individually per axis\n",
    "            translate_percent={\"x\": (-0.2, 0.2), \"y\": (-0.2, 0.2)}, # translate by -20 to +20 percent (per axis)\n",
    "            rotate=(-45, 45), # rotate by -45 to +45 degrees\n",
    "            shear=(-16, 16), # shear by -16 to +16 degrees\n",
    "            order=[0, 1], # use nearest neighbour or bilinear interpolation (fast)\n",
    "            cval=(0, 255), # if mode is constant, use a cval between 0 and 255\n",
    "            mode=ia.ALL # use any of scikit-image's warping modes (see 2nd image from the top for examples)\n",
    "        )),\n",
    "        # execute 0 to 5 of the following (less important) augmenters per image\n",
    "        # don't execute all of them, as that would often be way too strong\n",
    "        iaa.SomeOf((0, 5),\n",
    "            [\n",
    "                sometimes(iaa.Superpixels(p_replace=(0, 1.0), n_segments=(20, 200))), # convert images into their superpixel representation\n",
    "                iaa.OneOf([\n",
    "                    iaa.GaussianBlur((0, 3.0)), # blur images with a sigma between 0 and 3.0\n",
    "                    iaa.AverageBlur(k=(2, 7)), # blur image using local means with kernel sizes between 2 and 7\n",
    "                    iaa.MedianBlur(k=(3, 11)), # blur image using local medians with kernel sizes between 2 and 7\n",
    "                ]),\n",
    "                iaa.Sharpen(alpha=(0, 1.0), lightness=(0.75, 1.5)), # sharpen images\n",
    "                iaa.Emboss(alpha=(0, 1.0), strength=(0, 2.0)), # emboss images\n",
    "                # search either for all edges or for directed edges,\n",
    "                # blend the result with the original image using a blobby mask\n",
    "                iaa.SimplexNoiseAlpha(iaa.OneOf([\n",
    "                    iaa.EdgeDetect(alpha=(0.5, 1.0)),\n",
    "                    iaa.DirectedEdgeDetect(alpha=(0.5, 1.0), direction=(0.0, 1.0)),\n",
    "                ])),\n",
    "                iaa.AdditiveGaussianNoise(loc=0, scale=(0.0, 0.05*255), per_channel=0.5), # add gaussian noise to images\n",
    "                iaa.OneOf([\n",
    "                    iaa.Dropout((0.01, 0.1), per_channel=0.5), # randomly remove up to 10% of the pixels\n",
    "                    iaa.CoarseDropout((0.03, 0.15), size_percent=(0.02, 0.05), per_channel=0.2),\n",
    "                ]),\n",
    "                iaa.Invert(0.05, per_channel=True), # invert color channels\n",
    "                iaa.Add((-10, 10), per_channel=0.5), # change brightness of images (by -10 to 10 of original value)\n",
    "                iaa.AddToHueAndSaturation((-20, 20)), # change hue and saturation\n",
    "                # either change the brightness of the whole image (sometimes\n",
    "                # per channel) or change the brightness of subareas\n",
    "                iaa.OneOf([\n",
    "                    iaa.Multiply((0.5, 1.5), per_channel=0.5),\n",
    "                    iaa.FrequencyNoiseAlpha(\n",
    "                        exponent=(-4, 0),\n",
    "                        first=iaa.Multiply((0.5, 1.5), per_channel=True),\n",
    "                        second=iaa.LinearContrast((0.5, 2.0))\n",
    "                    )\n",
    "                ]),\n",
    "                iaa.LinearContrast((0.5, 2.0), per_channel=0.5), # improve or worsen the contrast\n",
    "                iaa.Grayscale(alpha=(0.0, 1.0)),\n",
    "                sometimes(iaa.ElasticTransformation(alpha=(0.5, 3.5), sigma=0.25)), # move pixels locally around (with random strengths)\n",
    "                sometimes(iaa.PiecewiseAffine(scale=(0.01, 0.05))), # sometimes move parts of the image around\n",
    "                sometimes(iaa.PerspectiveTransform(scale=(0.01, 0.1)))\n",
    "            ],\n",
    "            random_order=True\n",
    "        )\n",
    "    ],\n",
    "    random_order=True\n",
    ")\n",
    "images_aug = seq(images=X_train_arguments)"
   ]
  },
  {
   "cell_type": "code",
   "execution_count": 676,
   "id": "aeb451cb",
   "metadata": {},
   "outputs": [
    {
     "data": {
      "text/plain": [
       "(360000, 28, 28, 3)"
      ]
     },
     "execution_count": 676,
     "metadata": {},
     "output_type": "execute_result"
    }
   ],
   "source": [
    "images_aug.shape"
   ]
  },
  {
   "cell_type": "code",
   "execution_count": 681,
   "id": "95876d45",
   "metadata": {},
   "outputs": [
    {
     "data": {
      "image/png": "[encoded data removed]",
      "text/plain": [
       "<Figure size 432x288 with 1 Axes>"
      ]
     },
     "metadata": {
      "needs_background": "light"
     },
     "output_type": "display_data"
    },
    {
     "name": "stdout",
     "output_type": "stream",
     "text": [
      "original label : 3\n"
     ]
    },
    {
     "data": {
      "image/png": "[encoded data removed]",
      "text/plain": [
       "<Figure size 432x288 with 1 Axes>"
      ]
     },
     "metadata": {
      "needs_background": "light"
     },
     "output_type": "display_data"
    },
    {
     "name": "stdout",
     "output_type": "stream",
     "text": [
      "original label : 6\n"
     ]
    },
    {
     "data": {
      "image/png": "[encoded data removed]",
      "text/plain": [
       "<Figure size 432x288 with 1 Axes>"
      ]
     },
     "metadata": {
      "needs_background": "light"
     },
     "output_type": "display_data"
    },
    {
     "name": "stdout",
     "output_type": "stream",
     "text": [
      "original label : 0\n"
     ]
    },
    {
     "data": {
      "image/png": "[encoded data removed]",
      "text/plain": [
       "<Figure size 432x288 with 1 Axes>"
      ]
     },
     "metadata": {
      "needs_background": "light"
     },
     "output_type": "display_data"
    },
    {
     "name": "stdout",
     "output_type": "stream",
     "text": [
      "original label : 1\n"
     ]
    },
    {
     "data": {
      "image/png": "[encoded data removed]",
      "text/plain": [
       "<Figure size 432x288 with 1 Axes>"
      ]
     },
     "metadata": {
      "needs_background": "light"
     },
     "output_type": "display_data"
    },
    {
     "name": "stdout",
     "output_type": "stream",
     "text": [
      "original label : 0\n"
     ]
    },
    {
     "data": {
      "image/png": "[encoded data removed]",
      "text/plain": [
       "<Figure size 432x288 with 1 Axes>"
      ]
     },
     "metadata": {
      "needs_background": "light"
     },
     "output_type": "display_data"
    },
    {
     "name": "stdout",
     "output_type": "stream",
     "text": [
      "original label : 8\n"
     ]
    }
   ],
   "source": [
    "idx = np.random.randint(360000, size=6)\n",
    "for rgb, i in zip(images_aug[idx], idx) :\n",
    "    print_image(rgb)\n",
    "    print('original label :',y_train_arguments[i])"
   ]
  },
  {
   "cell_type": "code",
   "execution_count": 690,
   "id": "5b608253",
   "metadata": {},
   "outputs": [],
   "source": [
    "data_X = np.vstack([X_train_arguments, images_aug])\n",
    "data_y = np.hstack([y_train_arguments, y_train_arguments])"
   ]
  },
  {
   "cell_type": "code",
   "execution_count": 691,
   "id": "4f81ed55",
   "metadata": {},
   "outputs": [
    {
     "name": "stdout",
     "output_type": "stream",
     "text": [
      "X shape :  (720000, 28, 28, 3)\n",
      "y shape :  (720000,)\n"
     ]
    }
   ],
   "source": [
    "print('X shape : ', data_X.shape)\n",
    "print('y shape : ', data_y.shape)"
   ]
  },
  {
   "cell_type": "markdown",
   "id": "50a76047",
   "metadata": {},
   "source": [
    "# 마치며\n",
    "기존 train 데이터셋 60000개에서 -> 720000개로 만들었기 때문에 test 데이터까지는 굳이 안해도 충분히 많은 데이터라고 생각되서 하지 않았다.  \n",
    "csv파일은\n",
    "* X_train : (504000, 28x28x3)\n",
    "* X_test : (216000, 28x28x3)\n",
    "* y_train : (504000)\n",
    "* y_test : (216000)\n",
    "\n",
    "이고 불러올 때는\n",
    "```python\n",
    "\n",
    "X_train = pd.read_csv([X_train_FILE_PATH])\n",
    "X_test = pd.read_csv([X_test_FILE_PATH])\n",
    "y_train = pd.read_csv([y_train_FILE_PATH])\n",
    "y_test = pd.read_csv([y_test_FILE_PATH])\n",
    "\n",
    "X_train = np.reshape(X_train, (-1, 28, 28, 3))\n",
    "X_test = np.reshape(X_test, (-1, 28, 28, 3))\n",
    "```\n",
    "로 불러오면 될듯 싶다.\n",
    "* 불러오는건 안해봄. 그냥 csv파일 읽어와서 reshape해주면 됨."
   ]
  },
  {
   "cell_type": "markdown",
   "id": "0fb816dd",
   "metadata": {},
   "source": [
    "## Train, Test split"
   ]
  },
  {
   "cell_type": "code",
   "execution_count": 696,
   "id": "d1b8b266",
   "metadata": {},
   "outputs": [],
   "source": [
    "from sklearn.model_selection import train_test_split\n",
    "X_train, X_test, y_train, y_test = train_test_split(data_X, data_y, \n",
    "                                                    test_size=0.3, \n",
    "                                                    random_state=42, \n",
    "                                                    shuffle = True,\n",
    "                                                    stratify = data_y)"
   ]
  },
  {
   "cell_type": "markdown",
   "id": "a0648b76",
   "metadata": {},
   "source": [
    "## 이미지 출력"
   ]
  },
  {
   "cell_type": "code",
   "execution_count": 697,
   "id": "ea203ccb",
   "metadata": {},
   "outputs": [
    {
     "data": {
      "image/png": "[encoded data removed]",
      "text/plain": [
       "<Figure size 432x288 with 1 Axes>"
      ]
     },
     "metadata": {
      "needs_background": "light"
     },
     "output_type": "display_data"
    },
    {
     "name": "stdout",
     "output_type": "stream",
     "text": [
      "original label : 2\n"
     ]
    },
    {
     "data": {
      "image/png": "[encoded data removed]",
      "text/plain": [
       "<Figure size 432x288 with 1 Axes>"
      ]
     },
     "metadata": {
      "needs_background": "light"
     },
     "output_type": "display_data"
    },
    {
     "name": "stdout",
     "output_type": "stream",
     "text": [
      "original label : 6\n"
     ]
    },
    {
     "data": {
      "image/png": "[encoded data removed]",
      "text/plain": [
       "<Figure size 432x288 with 1 Axes>"
      ]
     },
     "metadata": {
      "needs_background": "light"
     },
     "output_type": "display_data"
    },
    {
     "name": "stdout",
     "output_type": "stream",
     "text": [
      "original label : 9\n"
     ]
    },
    {
     "data": {
      "image/png": "[encoded data removed]",
      "text/plain": [
       "<Figure size 432x288 with 1 Axes>"
      ]
     },
     "metadata": {
      "needs_background": "light"
     },
     "output_type": "display_data"
    },
    {
     "name": "stdout",
     "output_type": "stream",
     "text": [
      "original label : 1\n"
     ]
    },
    {
     "data": {
      "image/png": "[encoded data removed]",
      "text/plain": [
       "<Figure size 432x288 with 1 Axes>"
      ]
     },
     "metadata": {
      "needs_background": "light"
     },
     "output_type": "display_data"
    },
    {
     "name": "stdout",
     "output_type": "stream",
     "text": [
      "original label : 5\n"
     ]
    },
    {
     "data": {
      "image/png": "[encoded data removed]",
      "text/plain": [
       "<Figure size 432x288 with 1 Axes>"
      ]
     },
     "metadata": {
      "needs_background": "light"
     },
     "output_type": "display_data"
    },
    {
     "name": "stdout",
     "output_type": "stream",
     "text": [
      "original label : 1\n"
     ]
    }
   ],
   "source": [
    "idx = np.random.randint(len(X_train), size=6)\n",
    "for rgb, i in zip(X_train[idx], idx) :\n",
    "    print_image(rgb)\n",
    "    print('original label :',y_train[i])"
   ]
  },
  {
   "cell_type": "code",
   "execution_count": 701,
   "id": "a77df608",
   "metadata": {},
   "outputs": [],
   "source": [
    "# 데이터 csv파일로 내보내기\n",
    "import pandas as pd\n",
    "pd.DataFrame(X_train.reshape(len(X_train), -1)).to_csv('X_train', index = False)\n",
    "pd.DataFrame(X_test.reshape(len(X_test), -1)).to_csv('X_test', index = False)\n",
    "pd.DataFrame(y_train).to_csv('y_train', index = False)\n",
    "pd.DataFrame(y_test).to_csv('y_test', index = False)"
   ]
  },
  {
   "cell_type": "code",
   "execution_count": null,
   "id": "2a2cc249",
   "metadata": {},
   "outputs": [],
   "source": []
  }
 ],
 "metadata": {
  "kernelspec": {
   "display_name": "Python 3",
   "language": "python",
   "name": "python3"
  },
  "language_info": {
   "codemirror_mode": {
    "name": "ipython",
    "version": 3
   },
   "file_extension": ".py",
   "mimetype": "text/x-python",
   "name": "python",
   "nbconvert_exporter": "python",
   "pygments_lexer": "ipython3",
   "version": "3.8.5"
  }
 },
 "nbformat": 4,
 "nbformat_minor": 5
}
